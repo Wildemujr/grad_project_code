{
 "cells": [
  {
   "cell_type": "code",
   "execution_count": 5,
   "metadata": {},
   "outputs": [
    {
     "name": "stderr",
     "output_type": "stream",
     "text": [
      "@> 568 atoms and 1 coordinate set(s) were parsed in 0.01s.\n"
     ]
    },
    {
     "name": "stdout",
     "output_type": "stream",
     "text": [
      "The number of Carbon Atoms is: 568\n"
     ]
    }
   ],
   "source": [
    "from prody import *\n",
    "from pylab import *\n",
    "import numpy as np\n",
    "import py3Dmol\n",
    "\n",
    "#import nglview as nv \n",
    "# ^^ For use in Jupyter Notbook\n",
    "#from IPython.display import display, Math, Latex\n",
    "# ^^ For use in Jupyter Notbook\n",
    "#import sys\n",
    "\n",
    "# Program: AnisotropicNetworkModel.ipynb\n",
    "\n",
    "# Author(s): Originally Jose K. James; edited, rewritten, and adopted for further use by Jan A. Siess.\n",
    "\n",
    "# Purpose: The purpose of this program is to conduct normal analysis of proteins via the use of --\n",
    "# an anisotropic network model. ANM is a tool used for normal analysis of proteins, and has been --\n",
    "# successfully applied for exploring the relation between between protein structure and function. \n",
    "# It is essentially an Elastic Network Model for the Cα atoms with a step function -- \n",
    "# for the dependence of the force constants on the inter-particle distance.\n",
    "\n",
    "# Python Version: Intended for Python versions 3.[*]+\n",
    "\n",
    "\n",
    "prot = 'drosophila_mutopt_r3_backbone.nowa.avg'\n",
    "\n",
    "#if in regular terminal working with a regular [*].py file:\n",
    "#prot = sys.argv[1]\n",
    "\n",
    "# Parse structure of PDB by passing an identifier. If it is not located in the current working --\n",
    "# directory, it will be downloaded.\n",
    "avg = parsePDB('avg.pdb')\n",
    "\n",
    "#Extracting only C$\\alpha$ atoms.\n",
    "calphas = avg.select('protein and name CA')\n",
    "\n",
    "#Get the actual number of alpha carbon atoms into a variable\n",
    "num_CA = calphas.numAtoms('protein')\n",
    "\n",
    "print(f'The number of Carbon Atoms is: {num_CA}')\n",
    "#display(Math(r'F(k) = \\int_{-\\infty}^{\\infty} f(x) e^{2\\pi i k} dx'))"
   ]
  },
  {
   "cell_type": "code",
   "execution_count": 2,
   "metadata": {
    "scrolled": true
   },
   "outputs": [
    {
     "name": "stderr",
     "output_type": "stream",
     "text": [
      "@> Hessian was built in 0.15s.\n"
     ]
    },
    {
     "name": "stdout",
     "output_type": "stream",
     "text": [
      "The number of array elements in the Hessian matrix amounts to: 2903616\n"
     ]
    }
   ],
   "source": [
    "#Building the Hessian\n",
    "\n",
    "#Instantiate an ANM instance:\n",
    "anm = ANM('avg ANM analysis')\n",
    "\n",
    "#Build the Hessian matrix by passing the selected @>568 atoms to ANM.buildHessian() method:\n",
    "anm.buildHessian(calphas, cutoff = 13.5, gamma = 1.0)\n",
    "\n",
    "#Get a copy of the Hessian matrix using ANM.getHessian() method [further, we limit full output to only round up to 3 places]:\n",
    "structHessian = anm.getHessian().round(3)\n",
    "\n",
    "#Just out of curiousity to determine the number of element in the array:\n",
    "SquareMatrix = np.prod(structHessian.shape)\n",
    "print(f'The number of array elements in the Hessian matrix amounts to: {SquareMatrix}')\n",
    "\n",
    "#Setting the force constant K to 1.0 kcal/Å^{2} and the cutt-off distance to 13.5 Å \n",
    "#This was determined from previously derived general ranges for proteins.\n",
    "CO = 13.5\n",
    "K = 1*10**0\n",
    "\n",
    "#Save the array to a text file \n",
    "np.savetxt(f'{prot}_Hessian_gamma_{K}_cutoff_{CO}.dat', structHessian)"
   ]
  },
  {
   "cell_type": "code",
   "execution_count": 3,
   "metadata": {},
   "outputs": [
    {
     "name": "stderr",
     "output_type": "stream",
     "text": [
      "@> 1698 modes were calculated in 0.68s.\n"
     ]
    }
   ],
   "source": [
    "#Obtaining the normal modes data \n",
    "\n",
    "#The normal mode of an oscillating system is a pattern of motion in which all parts of the system move sinusoidally with the same frequency and with a fixed phase relation.\n",
    "\n",
    "#n_modes -- number of non-zero eigenvalues/vectors to calculate\n",
    "#zeros -- if True, modes with zero eigencalues will be kept\n",
    "#turbo -- Use a memory intensive, but faster way to calculate modes\n",
    "\n",
    "#determine first the number of n_modes\n",
    "num_modes = num_CA*3 \n",
    "\n",
    "#Go ahead with the main calculation...\n",
    "\n",
    "#Calculating Normal Modes, eigenvalues/-vectors, and the covariance matrix:\n",
    "anm.calcModes(n_modes=num_modes, zeros = False, turbo = True)\n",
    "eigVals = anm.getEigvals()\n",
    "eigVects = anm.getEigvecs()\n",
    "egCov = anm.getCovariance()\n",
    "\n",
    "#Save the eigenvalue/-vectors into a txt file:\n",
    "np.savetxt(f'{prot}_egvals2_gamma_{K}_cutoff_{CO}.dat', eigVals)\n",
    "np.savetxt(f'{prot}_egvects2_gamma_{K}_cutoff_{CO}.dat', eigVects)\n",
    "np.savetxt(f'{prot}_egCov2_gamma_{K}_cutoff_{CO}.dat', egCov)\n",
    "\n",
    "\n"
   ]
  },
  {
   "cell_type": "markdown",
   "metadata": {},
   "source": []
  },
  {
   "cell_type": "code",
   "execution_count": null,
   "metadata": {},
   "outputs": [],
   "source": []
  }
 ],
 "metadata": {
  "kernelspec": {
   "display_name": "Python 3",
   "language": "python",
   "name": "python3"
  },
  "language_info": {
   "codemirror_mode": {
    "name": "ipython",
    "version": 3
   },
   "file_extension": ".py",
   "mimetype": "text/x-python",
   "name": "python",
   "nbconvert_exporter": "python",
   "pygments_lexer": "ipython3",
   "version": "3.6.8"
  }
 },
 "nbformat": 4,
 "nbformat_minor": 2
}
