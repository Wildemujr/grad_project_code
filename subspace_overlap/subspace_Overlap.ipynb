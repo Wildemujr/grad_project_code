{
 "cells": [
  {
   "cell_type": "markdown",
   "metadata": {},
   "source": [
    "# Subpace Overlap\n",
    "\n",
    "---\n",
    "\n",
    "The subspace overlap is but one of the measures used to compare the subspaces determined by both the Elastic Network Model (ENM) and Principal Component Analysis (PCA). PCA is a powerful tool to quantify the extent to which two protein simulations or fragements thereof (__A__ and __B__) explore the same conformational space. To do so, a common approach is to select a subset of eigenvectors for each ensemble, e.g., $\\pmb{v}_{1}^{A},\\dots,\\pmb{v}_{n}^{A}$ and $\\pmb{v}_{1}^{B},\\dots,\\pmb{v}_{n}^{B}$. Thus, we can use the following expression:\n",
    "\n",
    "\\begin{align}\n",
    "\\Psi_{A:B} = \\frac{1}{n} \\sum_{i=1}^{n} \\sum_{j=1}^{n} (\\pmb{v}_{i}^{A} \\pmb{\\cdot} \\, \\pmb{v}_{j}^{B})^{2}\n",
    "\\end{align}\n",
    "\n",
    "The _subspace overlap_ $\\Psi$ ranges from $0$, when the eigenvector subsets are completely dissimilar, to $1$ (or $100\\%)$ when they are identical. The number of eigenvectors used, $n$, is typically chosen so as to represent a significant proportion of the fluctuations in the simulation.\n",
    "\n",
    "Knowing this, let us calculate the subspace overlap between two trajectories.\n",
    "\n",
    "---"
   ]
  },
  {
   "cell_type": "code",
   "execution_count": 8,
   "metadata": {},
   "outputs": [],
   "source": [
    "# Author: Jan A. Siess\n",
    "# Date: 06 September 2019\n",
    "#\n",
    "# Purpose: To calculate the subspace overlap between two trajectories in order\n",
    "# to determine the degree similarity between two proteins spanning a similar\n",
    "# conformational space.\n",
    "\n",
    "from prody import *\n",
    "from pylab import *\n",
    "import numpy as np\n"
   ]
  },
  {
   "cell_type": "markdown",
   "metadata": {},
   "source": [
    "### For Trajectory A\n",
    "\n",
    "First, we must conduct the ANM. Toward the end, we will receive a set of eigenvectors with which we will be able to use.\n",
    "\n",
    "---"
   ]
  },
  {
   "cell_type": "code",
   "execution_count": 9,
   "metadata": {},
   "outputs": [
    {
     "output_type": "stream",
     "name": "stderr",
     "text": [
      "@> 739 atoms and 1 coordinate set(s) were parsed in 0.01s.\n",
      "The number of Carbon Atoms is: 47\n"
     ]
    }
   ],
   "source": [
    "# Python Version: Intended for Python versions 3.[*]+\n",
    "protA = 'snn_SC.nowa.avg'\n",
    "\n",
    "#if in regular terminal working with a regular [*].py file:\n",
    "#prot = sys.argv[1]\n",
    "\n",
    "# Parse structure of PDB by passing an identifier. If it is not located in the current working --\n",
    "# directory, it will be downloaded.\n",
    "avgA = parsePDB('snn_SC.nowa.avg.pdb')\n",
    "\n",
    "#Extracting only C$\\alpha$ atoms.\n",
    "calphas_protA = avgA.select('protein and name CA')\n",
    "\n",
    "#Get the actual number of alpha carbon atoms into a variable\n",
    "num_CA_protA = calphas_protA.numAtoms('protein')\n",
    "\n",
    "print(f'The number of Carbon Atoms is: {num_CA_protA}')"
   ]
  },
  {
   "cell_type": "code",
   "execution_count": 10,
   "metadata": {},
   "outputs": [
    {
     "output_type": "stream",
     "name": "stderr",
     "text": [
      "@> Hessian was built in 0.02s.\n",
      "The number of array elements in the Hessian matrix amounts to: 19881\n"
     ]
    }
   ],
   "source": [
    "#Building the Hessian\n",
    "\n",
    "#Instantiate an ANM instance:\n",
    "anm = ANM('avg ANM analysis')\n",
    "\n",
    "#Build the Hessian matrix by passing the selected @>568 atoms to ANM.buildHessian() method:\n",
    "anm.buildHessian(calphas_protA, cutoff = 13.5, gamma = 1.0)\n",
    "\n",
    "#Get a copy of the Hessian matrix using ANM.getHessian() method [further, we limit full output to only round up to 3 places]:\n",
    "structHessian = anm.getHessian().round(3)\n",
    "\n",
    "#Just out of curiousity to determine the number of element in the array:\n",
    "SquareMatrix = np.prod(structHessian.shape)\n",
    "print(f'The number of array elements in the Hessian matrix amounts to: {SquareMatrix}')\n",
    "\n",
    "#Setting the force constant K to 1.0 kcal/Å^{2} and the cutt-off distance to 13.5 Å \n",
    "#This was determined from previously derived general ranges for proteins.\n",
    "CO = 13.5\n",
    "K = 1*10**0\n",
    "\n",
    "#Save the array to a text file \n",
    "np.savetxt(f'{protA}_Hessian_gamma_{K}_cutoff_{CO}.dat', structHessian)"
   ]
  },
  {
   "cell_type": "code",
   "execution_count": 11,
   "metadata": {},
   "outputs": [
    {
     "output_type": "stream",
     "name": "stderr",
     "text": [
      "@> 135 modes were calculated in 0.02s.\n"
     ]
    }
   ],
   "source": [
    "#Obtaining the normal modes data \n",
    "\n",
    "#The normal mode of an oscillating system is a pattern of motion in which all parts of the system move sinusoidally with the same frequency and with a fixed phase relation.\n",
    "\n",
    "#n_modes -- number of non-zero eigenvalues/vectors to calculate\n",
    "#zeros -- if True, modes with zero eigencalues will be kept\n",
    "#turbo -- Use a memory intensive, but faster way to calculate modes\n",
    "\n",
    "#determine first the number of n_modes\n",
    "num_modes_protA = num_CA_protA*3 \n",
    "\n",
    "#Go ahead with the main calculation...\n",
    "\n",
    "#Calculating Normal Modes, eigenvalues/-vectors, and the covariance matrix:\n",
    "anm.calcModes(n_modes=num_modes_protA, zeros = False, turbo = True)\n",
    "eigVals_protA = anm.getEigvals()\n",
    "eigVects_protA = anm.getEigvecs()\n",
    "egCov_protA = anm.getCovariance()\n",
    "\n",
    "#Save the eigenvalue/-vectors into a txt file:\n",
    "np.savetxt(f'{protA}_egvals2_gamma_{K}_cutoff_{CO}.dat', eigVals_protA)\n",
    "np.savetxt(f'{protA}_egvects2_gamma_{K}_cutoff_{CO}.dat', eigVects_protA)\n",
    "np.savetxt(f'{protA}_egCov2_gamma_{K}_cutoff_{CO}.dat', egCov_protA)"
   ]
  },
  {
   "cell_type": "markdown",
   "metadata": {},
   "source": [
    "### For Trajectory B\n",
    "\n",
    "Again, we must conduct the ANM. Toward the end, we will receive a set of eigenvectors with which we will be able to use. This time, however, we will be executing this all for the second trajectory with which we would like to compare the first to. \n",
    "\n",
    "---"
   ]
  },
  {
   "cell_type": "code",
   "execution_count": 12,
   "metadata": {},
   "outputs": [
    {
     "output_type": "stream",
     "name": "stderr",
     "text": [
      "@> 698 atoms and 1 coordinate set(s) were parsed in 0.01s.\n",
      "The number of Carbon Atoms is: 44\n"
     ]
    }
   ],
   "source": [
    "# Python Version: Intended for Python versions 3.[*]+\n",
    "protB = 'sn_homodimer.nowa.avg'\n",
    "\n",
    "#if in regular terminal working with a regular [*].py file:\n",
    "#prot = sys.argv[1]\n",
    "\n",
    "# Parse structure of PDB by passing an identifier. If it is not located in the current working --\n",
    "# directory, it will be downloaded.\n",
    "avgB = parsePDB('sn_homodimer.nowa.avg.pdb')\n",
    "\n",
    "#Extracting only C$\\alpha$ atoms.\n",
    "calphas_protB = avgB.select('protein and name CA')\n",
    "\n",
    "#Get the actual number of alpha carbon atoms into a variable\n",
    "num_CA_protB = calphas_protB.numAtoms('protein')\n",
    "\n",
    "print(f'The number of Carbon Atoms is: {num_CA_protB}')"
   ]
  },
  {
   "cell_type": "code",
   "execution_count": 14,
   "metadata": {},
   "outputs": [
    {
     "output_type": "stream",
     "name": "stderr",
     "text": [
      "@> Hessian was built in 0.02s.\n",
      "The number of array elements in the Hessian matrix amounts to: 17424\n"
     ]
    }
   ],
   "source": [
    "#Building the Hessian\n",
    "\n",
    "#Instantiate an ANM instance:\n",
    "anm = ANM('avg ANM analysis')\n",
    "\n",
    "#Build the Hessian matrix by passing the selected @>568 atoms to ANM.buildHessian() method:\n",
    "anm.buildHessian(calphas_protB, cutoff = 13.5, gamma = 1.0)\n",
    "\n",
    "#Get a copy of the Hessian matrix using ANM.getHessian() method [further, we limit full output to only round up to 3 places]:\n",
    "structHessian = anm.getHessian().round(3)\n",
    "\n",
    "#Just out of curiousity to determine the number of element in the array:\n",
    "SquareMatrix = np.prod(structHessian.shape)\n",
    "print(f'The number of array elements in the Hessian matrix amounts to: {SquareMatrix}')\n",
    "\n",
    "#Setting the force constant K to 1.0 kcal/Å^{2} and the cutt-off distance to 13.5 Å \n",
    "#This was determined from previously derived general ranges for proteins.\n",
    "CO = 13.5\n",
    "K = 1*10**0\n",
    "\n",
    "#Save the array to a text file \n",
    "np.savetxt(f'{protB}_Hessian_gamma_{K}_cutoff_{CO}.dat', structHessian)"
   ]
  },
  {
   "cell_type": "code",
   "execution_count": 15,
   "metadata": {},
   "outputs": [
    {
     "output_type": "stream",
     "name": "stderr",
     "text": [
      "@> 126 modes were calculated in 0.01s.\n"
     ]
    }
   ],
   "source": [
    "#Obtaining the normal modes data \n",
    "\n",
    "#The normal mode of an oscillating system is a pattern of motion in which all parts of the system move sinusoidally with the same frequency and with a fixed phase relation.\n",
    "\n",
    "#n_modes -- number of non-zero eigenvalues/vectors to calculate\n",
    "#zeros -- if True, modes with zero eigencalues will be kept\n",
    "#turbo -- Use a memory intensive, but faster way to calculate modes\n",
    "\n",
    "#determine first the number of n_modes\n",
    "num_modes_protB = num_CA_protB*3 \n",
    "\n",
    "#Go ahead with the main calculation...\n",
    "\n",
    "#Calculating Normal Modes, eigenvalues/-vectors, and the covariance matrix:\n",
    "anm.calcModes(n_modes=num_modes_protB, zeros = False, turbo = True)\n",
    "eigVals_protB = anm.getEigvals()\n",
    "eigVects_protB = anm.getEigvecs()\n",
    "egCov_protB = anm.getCovariance()\n",
    "\n",
    "#Save the eigenvalue/-vectors into a txt file:\n",
    "np.savetxt(f'{protB}_egvals2_gamma_{K}_cutoff_{CO}.dat', eigVals_protB)\n",
    "np.savetxt(f'{protB}_egvects2_gamma_{K}_cutoff_{CO}.dat', eigVects_protB)\n",
    "np.savetxt(f'{protB}_egCov2_gamma_{K}_cutoff_{CO}.dat', egCov_protB)"
   ]
  },
  {
   "cell_type": "markdown",
   "metadata": {},
   "source": [
    "## Subspace Overlap Calculation\n",
    "\n",
    "Using the eigenvectors calculated for each previous trajectory, we can now go ahead and take the dot product between the two, square that, and then take the sum to achieve the subspace overlap. Let us start by taking the first 10 eigenvectors."
   ]
  },
  {
   "cell_type": "code",
   "execution_count": 16,
   "metadata": {},
   "outputs": [
    {
     "output_type": "stream",
     "name": "stdout",
     "text": [
      "141\n132\n"
     ]
    }
   ],
   "source": [
    "print(len(eigVects_protA))\n",
    "print(len(eigVects_protB))"
   ]
  },
  {
   "cell_type": "code",
   "execution_count": 17,
   "metadata": {},
   "outputs": [
    {
     "output_type": "error",
     "ename": "ValueError",
     "evalue": "shapes (135,) and (126,) not aligned: 135 (dim 0) != 126 (dim 0)",
     "traceback": [
      "\u001b[0;31m---------------------------------------------------------------------------\u001b[0m",
      "\u001b[0;31mValueError\u001b[0m                                Traceback (most recent call last)",
      "\u001b[0;32m<ipython-input-17-c3317c4160f4>\u001b[0m in \u001b[0;36m<module>\u001b[0;34m\u001b[0m\n\u001b[1;32m      6\u001b[0m \u001b[0;34m\u001b[0m\u001b[0m\n\u001b[1;32m      7\u001b[0m \u001b[0;32mfor\u001b[0m \u001b[0mi\u001b[0m \u001b[0;32min\u001b[0m \u001b[0mrange\u001b[0m\u001b[0;34m(\u001b[0m\u001b[0;36m0\u001b[0m\u001b[0;34m,\u001b[0m\u001b[0;36m10\u001b[0m\u001b[0;34m)\u001b[0m\u001b[0;34m:\u001b[0m\u001b[0;34m\u001b[0m\u001b[0;34m\u001b[0m\u001b[0m\n\u001b[0;32m----> 8\u001b[0;31m     \u001b[0mdot_prod\u001b[0m \u001b[0;34m=\u001b[0m \u001b[0mnp\u001b[0m\u001b[0;34m.\u001b[0m\u001b[0mdot\u001b[0m\u001b[0;34m(\u001b[0m\u001b[0meigVects_protA\u001b[0m\u001b[0;34m[\u001b[0m\u001b[0mi\u001b[0m\u001b[0;34m]\u001b[0m\u001b[0;34m,\u001b[0m\u001b[0meigVects_protB\u001b[0m\u001b[0;34m[\u001b[0m\u001b[0mi\u001b[0m\u001b[0;34m]\u001b[0m\u001b[0;34m)\u001b[0m\u001b[0;34m\u001b[0m\u001b[0;34m\u001b[0m\u001b[0m\n\u001b[0m\u001b[1;32m      9\u001b[0m     \u001b[0msquared_result\u001b[0m \u001b[0;34m=\u001b[0m \u001b[0;34m(\u001b[0m\u001b[0mdot_prod\u001b[0m\u001b[0;34m)\u001b[0m\u001b[0;34m**\u001b[0m\u001b[0;36m2\u001b[0m\u001b[0;34m\u001b[0m\u001b[0;34m\u001b[0m\u001b[0m\n\u001b[1;32m     10\u001b[0m     \u001b[0mresult\u001b[0m \u001b[0;34m=\u001b[0m \u001b[0mresult\u001b[0m \u001b[0;34m+\u001b[0m \u001b[0msquared_result\u001b[0m\u001b[0;34m\u001b[0m\u001b[0;34m\u001b[0m\u001b[0m\n",
      "\u001b[0;32m<__array_function__ internals>\u001b[0m in \u001b[0;36mdot\u001b[0;34m(*args, **kwargs)\u001b[0m\n",
      "\u001b[0;31mValueError\u001b[0m: shapes (135,) and (126,) not aligned: 135 (dim 0) != 126 (dim 0)"
     ]
    }
   ],
   "source": [
    "#b = eigVects_protB.T\n",
    "#x = np.dot(eigVects_protA,b)\n",
    "#print(x)\n",
    "\n",
    "result = 0\n",
    "\n",
    "for i in range(0,10):\n",
    "    dot_prod = np.dot(eigVects_protA[i],eigVects_protB[i])\n",
    "    squared_result = (dot_prod)**2\n",
    "    result = result + squared_result\n",
    "print((result/10)*100) \n"
   ]
  },
  {
   "cell_type": "code",
   "execution_count": null,
   "metadata": {
    "scrolled": false
   },
   "outputs": [],
   "source": []
  },
  {
   "cell_type": "markdown",
   "metadata": {},
   "source": [
    "# Results \n",
    "\n",
    "The subspace overlap between... \n",
    "\n",
    "The pig and shrimp is: 0.0958283075352032\n",
    "\n",
    "The pig and drosophila is: 0.7104850377029857\n",
    "\n",
    "The shrimp and drosophila is: 0.07553883892467632"
   ]
  },
  {
   "cell_type": "code",
   "execution_count": null,
   "metadata": {},
   "outputs": [],
   "source": [
    "anm1 = calcANM('acc_SC.run1.nowa.pdb', selstr=\"calpha\", cutoff=13.5, gamma=1.0,n_modes=20)\n",
    "anm2 = calcANM('acc_SC.run2.nowa.pdb', selstr=\"calpha\", cutoff=13.5, gamma=1.0,n_modes=20)\n",
    "calcSubspaceOverlap(anm1[0],anm2[0])"
   ]
  }
 ],
 "metadata": {
  "kernelspec": {
   "display_name": "Python 3",
   "language": "python",
   "name": "python3"
  },
  "language_info": {
   "codemirror_mode": {
    "name": "ipython",
    "version": 3
   },
   "file_extension": ".py",
   "mimetype": "text/x-python",
   "name": "python",
   "nbconvert_exporter": "python",
   "pygments_lexer": "ipython3",
   "version": "3.9.4"
  }
 },
 "nbformat": 4,
 "nbformat_minor": 2
}