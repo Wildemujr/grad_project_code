{
 "cells": [
  {
   "cell_type": "markdown",
   "metadata": {},
   "source": [
    "# Subpace Overlap\n",
    "\n",
    "---\n",
    "\n",
    "The subspace overlap is but one of the measures used to compare the subspaces determined by both the Elastic Network Model (ENM) and Principal Component Analysis (PCA). PCA is a powerful tool to quantify the extent to which two protein simulations or fragements thereof (__A__ and __B__) explore the same conformational space. To do so, a common approach is to select a subset of eigenvectors for each ensemble, e.g., $\\pmb{v}_{1}^{A},\\dots,\\pmb{v}_{n}^{A}$ and $\\pmb{v}_{1}^{B},\\dots,\\pmb{v}_{n}^{B}$. Thus, we can use the following expression:\n",
    "\n",
    "\\begin{align}\n",
    "\\Psi_{A:B} = \\frac{1}{n} \\sum_{i=1}^{n} \\sum_{j=1}^{n} (\\pmb{v}_{i}^{A} \\pmb{\\cdot} \\, \\pmb{v}_{j}^{B})^{2}\n",
    "\\end{align}\n",
    "\n",
    "The _subspace overlap_ $\\Psi$ ranges from $0$, when the eigenvector subsets are completely dissimilar, to $1$ (or $100\\%)$ when they are identical. The number of eigenvectors used, $n$, is typically chosen so as to represent a significant proportion of the fluctuations in the simulation.\n",
    "\n",
    "Knowing this, let us calculate the subspace overlap between two trajectories.\n",
    "\n",
    "---"
   ]
  },
  {
   "cell_type": "code",
   "execution_count": 2,
   "metadata": {},
   "outputs": [],
   "source": [
    "# Author: Jan A. Siess\n",
    "# Date: 06 September 2019\n",
    "#\n",
    "# Purpose: To calculate the subspace overlap between two trajectories in order\n",
    "# to determine the degree similarity between two proteins spanning a similar\n",
    "# conformational space.\n",
    "\n",
    "from prody import *\n",
    "from pylab import *\n",
    "import numpy as np\n",
    "import py3Dmol"
   ]
  },
  {
   "cell_type": "markdown",
   "metadata": {},
   "source": [
    "### For Trajectory A\n",
    "\n",
    "First, we must conduct the ANM. Toward the end, we will receive a set of eigenvectors with which we will be able to use.\n",
    "\n",
    "---"
   ]
  },
  {
   "cell_type": "code",
   "execution_count": 4,
   "metadata": {},
   "outputs": [
    {
     "name": "stderr",
     "output_type": "stream",
     "text": [
      "@> 568 atoms and 1 coordinate set(s) were parsed in 0.01s.\n"
     ]
    },
    {
     "name": "stdout",
     "output_type": "stream",
     "text": [
      "The number of Carbon Atoms is: 568\n"
     ]
    }
   ],
   "source": [
    "# Python Version: Intended for Python versions 3.[*]+\n",
    "prot = 'drosophila_mutopt_r3_backbone.nowa.avg'\n",
    "\n",
    "#if in regular terminal working with a regular [*].py file:\n",
    "#prot = sys.argv[1]\n",
    "\n",
    "# Parse structure of PDB by passing an identifier. If it is not located in the current working --\n",
    "# directory, it will be downloaded.\n",
    "avg = parsePDB('avg.pdb')\n",
    "\n",
    "#Extracting only C$\\alpha$ atoms.\n",
    "calphas = avg.select('protein and name CA')\n",
    "\n",
    "#Get the actual number of alpha carbon atoms into a variable\n",
    "num_CA = calphas.numAtoms('protein')\n",
    "\n",
    "print(f'The number of Carbon Atoms is: {num_CA}')"
   ]
  },
  {
   "cell_type": "code",
   "execution_count": 5,
   "metadata": {},
   "outputs": [
    {
     "name": "stderr",
     "output_type": "stream",
     "text": [
      "@> Hessian was built in 0.15s.\n"
     ]
    },
    {
     "name": "stdout",
     "output_type": "stream",
     "text": [
      "The number of array elements in the Hessian matrix amounts to: 2903616\n"
     ]
    }
   ],
   "source": [
    "#Building the Hessian\n",
    "\n",
    "#Instantiate an ANM instance:\n",
    "anm = ANM('avg ANM analysis')\n",
    "\n",
    "#Build the Hessian matrix by passing the selected @>568 atoms to ANM.buildHessian() method:\n",
    "anm.buildHessian(calphas, cutoff = 13.5, gamma = 1.0)\n",
    "\n",
    "#Get a copy of the Hessian matrix using ANM.getHessian() method [further, we limit full output to only round up to 3 places]:\n",
    "structHessian = anm.getHessian().round(3)\n",
    "\n",
    "#Just out of curiousity to determine the number of elements in the array:\n",
    "SquareMatrix = np.prod(structHessian.shape)\n",
    "print(f'The number of array elements in the Hessian matrix amounts to: {SquareMatrix}')\n",
    "\n",
    "#Setting the force constant K to 1.0 kcal/Å^{2} and the cutt-off distance to 13.5 Å \n",
    "#This was determined from previously derived general ranges for proteins.\n",
    "CO = 13.5\n",
    "K = 1*10**0\n",
    "\n",
    "#Save the array to a text file \n",
    "np.savetxt(f'{prot}_Hessian_gamma_{K}_cutoff_{CO}.dat', structHessian)"
   ]
  },
  {
   "cell_type": "code",
   "execution_count": 6,
   "metadata": {},
   "outputs": [
    {
     "name": "stderr",
     "output_type": "stream",
     "text": [
      "@> 1698 modes were calculated in 0.77s.\n"
     ]
    }
   ],
   "source": [
    "#Obtaining the normal modes data \n",
    "\n",
    "#The normal mode of an oscillating system is a pattern of motion in which all parts of the system move sinusoidally with the same frequency and with a fixed phase relation.\n",
    "\n",
    "#n_modes -- number of non-zero eigenvalues/vectors to calculate\n",
    "#zeros -- if True, modes with zero eigencalues will be kept\n",
    "#turbo -- Use a memory intensive, but faster way to calculate modes\n",
    "\n",
    "#determine first the number of n_modes\n",
    "num_modes = num_CA*3 \n",
    "\n",
    "#Go ahead with the main calculation...\n",
    "\n",
    "#Calculating Normal Modes, eigenvalues/-vectors, and the covariance matrix:\n",
    "anm.calcModes(n_modes=num_modes, zeros = False, turbo = True)\n",
    "eigVals = anm.getEigvals()\n",
    "eigVects = anm.getEigvecs()\n",
    "egCov = anm.getCovariance()\n",
    "\n",
    "#Save the eigenvalue/-vectors into a txt file:\n",
    "np.savetxt(f'{prot}_egvals2_gamma_{K}_cutoff_{CO}.dat', eigVals)\n",
    "np.savetxt(f'{prot}_egvects2_gamma_{K}_cutoff_{CO}.dat', eigVects)\n",
    "np.savetxt(f'{prot}_egCov2_gamma_{K}_cutoff_{CO}.dat', egCov)"
   ]
  },
  {
   "cell_type": "code",
   "execution_count": 17,
   "metadata": {},
   "outputs": [
    {
     "name": "stdout",
     "output_type": "stream",
     "text": [
      "1698\n",
      "1698\n",
      "20\n",
      "0.0005889281507656066\n"
     ]
    }
   ],
   "source": [
    "A = []\n",
    "B = []\n",
    "for i in range(0,20):\n",
    "    A.append(eigVects[i])\n",
    "for i in range(21,41):\n",
    "    B.append(eigVects[i])\n",
    "\n",
    "An = A[0]\n",
    "Bn = B[5]\n",
    "print(An) ; print(Bn)\n",
    "\n",
    "print(len(A))\n",
    "\n",
    "result = 0\n",
    "\n",
    "for i in range(0,len(An)):\n",
    "        prod = An[i]*Bn[i]\n",
    "        result = prod + result\n",
    "        #print(f'{An[i]}   {Bn[i]}')\n",
    "result = result ** 2 ; result = 1/len(An)\n",
    "\n",
    "print(result)\n"
   ]
  },
  {
   "cell_type": "markdown",
   "metadata": {},
   "source": [
    "## Approach\n",
    "\n",
    "Since this is a list of lists, and each list within the nested list is an eigenvector,\n",
    "I would like to experiment with the possibility of summing over an individual list, and then saving the sum in position. I.e., write a function which first gets the sum, and then write another which will be responsible for getting the dot product between the two."
   ]
  },
  {
   "cell_type": "code",
   "execution_count": 16,
   "metadata": {},
   "outputs": [],
   "source": [
    "def calcVectorSum(EigenVector1, Eigenvector2):\n",
    "    return 0 "
   ]
  },
  {
   "cell_type": "code",
   "execution_count": null,
   "metadata": {},
   "outputs": [],
   "source": []
  }
 ],
 "metadata": {
  "kernelspec": {
   "display_name": "Python 3",
   "language": "python",
   "name": "python3"
  },
  "language_info": {
   "codemirror_mode": {
    "name": "ipython",
    "version": 3
   },
   "file_extension": ".py",
   "mimetype": "text/x-python",
   "name": "python",
   "nbconvert_exporter": "python",
   "pygments_lexer": "ipython3",
   "version": "3.7.2"
  }
 },
 "nbformat": 4,
 "nbformat_minor": 2
}
